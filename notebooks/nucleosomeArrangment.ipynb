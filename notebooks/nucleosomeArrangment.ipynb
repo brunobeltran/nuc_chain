{
 "cells": [
  {
   "cell_type": "code",
   "execution_count": 1,
   "metadata": {},
   "outputs": [
    {
     "name": "stdout",
     "output_type": "stream",
     "text": [
      "Using matplotlib backend: Qt5Agg\n"
     ]
    }
   ],
   "source": [
    "import numpy as np\n",
    "import matplotlib.pyplot as plt\n",
    "from mpl_toolkits.mplot3d import Axes3D\n",
    "%matplotlib"
   ]
  },
  {
   "cell_type": "code",
   "execution_count": 2,
   "metadata": {},
   "outputs": [],
   "source": [
    "class state:\n",
    "    def __init__(self):\n",
    "        self.r=np.array([0,0,1])\n",
    "        self.u=np.array([0,0,1])\n",
    "        self.t1=np.array([0,1,0])\n",
    "        self.t2=np.array([1,0,0])\n",
    "        \n",
    "    def neuclosome(self,theta = 2*np.pi*0.67,\n",
    "                   phi=2*np.pi*146*0.33/3.4 # 146bp  0.33nm/bp  pitch=3.4nm\n",
    "                   ,h=2.0,rad=4.6):\n",
    "        self.r = self.r - h*self.t1 # Helix offset \n",
    "        self.r = rotate(self.r,-self.t1,theta,self.r+rad*self.t2) # Winding r around\n",
    "        self.u = rotate(self.u,-self.t1,theta,0.0) # Winding u around\n",
    "        self.t2 = rotate(self.t2,-self.t1,theta,0.0) # Winding u around\n",
    "        self.t1 = rotate(self.t1,self.u,phi,0.0) # natural twist\n",
    "        self.t2 = rotate(self.t2,self.u,phi,0.0) # natural twist\n",
    "        \n",
    "    def get_neuclosome(self,h=2.0,rad=4.6):\n",
    "        npts = 20\n",
    "        vec = np.zeros((2*npts,3))\n",
    "        for ii in range(0,npts):\n",
    "            theta = 2*np.pi*ii/(npts-1)\n",
    "            vec[ii,:]=rotate(self.r,-self.t1,theta,self.r+rad*self.t2)\n",
    "            vec[ii+npts,:]=rotate(self.r,-self.t1,theta,self.r+rad*self.t2)-h*self.t1\n",
    "        return vec\n",
    "        \n",
    "    def linker(self,L=0.33*50,pitch_in_nm=3.4):\n",
    "        self.r = self.r + self.u*L\n",
    "        phi = L*2*np.pi/pitch_in_nm\n",
    "        self.t1 = rotate(self.t1,self.u,phi,0.0) # natural twist\n",
    "        self.t2 = rotate(self.t2,self.u,phi,0.0) # natural twist        \n",
    "    "
   ]
  },
  {
   "cell_type": "code",
   "execution_count": 3,
   "metadata": {},
   "outputs": [],
   "source": [
    "def rotate(x,u,theta,offset=np.array([0,0,0])):\n",
    "    \n",
    "    x = x - offset\n",
    "    \n",
    "    R = axisAnge2matrix(u,theta)\n",
    "    \n",
    "    x =  np.dot(R,x)\n",
    "    \n",
    "    x = x + offset\n",
    "    \n",
    "    return x\n",
    "\n",
    "def axisAnge2matrix(u,theta):\n",
    "    u = u/np.linalg.norm(u)\n",
    "    ux=u[0]\n",
    "    uy=u[1]\n",
    "    uz=u[2]\n",
    "    uou = np.outer(u,u)\n",
    "    u_x = np.array([[ 0, -uz,  uy],\n",
    "                    [uz,   0, -ux],\n",
    "                    [-uy, ux,  0 ]])\n",
    "    I=np.identity(3)\n",
    "    \n",
    "    R = np.cos(theta)*I + np.sin(theta)*u_x + (1-np.cos(theta))*uou   \n",
    "    return R"
   ]
  },
  {
   "cell_type": "code",
   "execution_count": 4,
   "metadata": {},
   "outputs": [
    {
     "name": "stdout",
     "output_type": "stream",
     "text": [
      "[0 0 1]\n",
      "[ 6.8160669  -2.          5.03101073]\n",
      "[ 21.27512712  -2.          -2.91792489]\n"
     ]
    }
   ],
   "source": [
    "triad = state()\n",
    "print(triad.r)\n",
    "triad.neuclosome()\n",
    "print(triad.r)\n",
    "triad.linker()\n",
    "print(triad.r)"
   ]
  },
  {
   "cell_type": "code",
   "execution_count": 6,
   "metadata": {},
   "outputs": [
    {
     "name": "stdout",
     "output_type": "stream",
     "text": [
      "[ 49.]\n",
      "[ 49.]\n",
      "[ 49.]\n",
      "[ 49.]\n",
      "[ 49.]\n",
      "[ 49.]\n",
      "[ 49.]\n",
      "[ 49.]\n",
      "[ 49.]\n",
      "[ 49.]\n",
      "[ 49.]\n",
      "[ 49.]\n",
      "[ 49.]\n",
      "[ 49.]\n",
      "[ 49.]\n",
      "[ 49.]\n",
      "[ 49.]\n",
      "[ 49.]\n",
      "[ 49.]\n",
      "[ 49.]\n",
      "[ 49.]\n",
      "[ 49.]\n",
      "[ 49.]\n",
      "[ 49.]\n",
      "[ 49.]\n",
      "[ 49.]\n",
      "[ 49.]\n",
      "[ 49.]\n",
      "[ 49.]\n",
      "[ 49.]\n"
     ]
    }
   ],
   "source": [
    "number_of_nucleosomes = 30\n",
    "number_of_replicates = 1\n",
    "\n",
    "data=np.array(np.zeros((number_of_nucleosomes*2,3,number_of_replicates)))\n",
    "triad = state()\n",
    "\n",
    "fig = plt.figure()\n",
    "ax = fig.add_subplot(111, projection='3d')\n",
    "for rep in range(0,number_of_replicates):\n",
    "    for neu in range(0,number_of_nucleosomes):\n",
    "        data[neu*2,:,rep]=triad.r\n",
    "        \n",
    "        L0=49\n",
    "        Delta = 0\n",
    "        L = L0+np.ceil((np.random.random(1)-0.5)*Delta)\n",
    "        print(L)\n",
    "        triad.linker(L=L*0.33)\n",
    "        data[neu*2+1,:,rep]=triad.r\n",
    "        \n",
    "        xs=data[neu*2:neu*2+2,0,rep]\n",
    "        ys=data[neu*2:neu*2+2,1,rep]\n",
    "        zs=data[neu*2:neu*2+2,2,rep]\n",
    "        ax.plot_wireframe(xs,ys,zs)\n",
    "        \n",
    "        vec = triad.get_neuclosome()\n",
    "        xs = vec[:,0]\n",
    "        ys = vec[:,1]\n",
    "        zs = vec[:,2]\n",
    "        ax.plot_wireframe(xs,ys,zs,color='r')\n",
    "        \n",
    "        plt.hold(True)\n",
    "        \n",
    "        triad.neuclosome()\n",
    "plt.axis('equal')\n",
    "plt.show()     \n"
   ]
  },
  {
   "cell_type": "code",
   "execution_count": null,
   "metadata": {
    "collapsed": true
   },
   "outputs": [],
   "source": []
  },
  {
   "cell_type": "code",
   "execution_count": null,
   "metadata": {
    "collapsed": true
   },
   "outputs": [],
   "source": []
  }
 ],
 "metadata": {
  "anaconda-cloud": {},
  "kernelspec": {
   "display_name": "Python 2",
   "language": "python",
   "name": "python2"
  },
  "language_info": {
   "codemirror_mode": {
    "name": "ipython",
    "version": 2
   },
   "file_extension": ".py",
   "mimetype": "text/x-python",
   "name": "python",
   "nbconvert_exporter": "python",
   "pygments_lexer": "ipython2",
   "version": "2.7.13"
  },
  "latex_envs": {
   "LaTeX_envs_menu_present": true,
   "autocomplete": true,
   "bibliofile": "biblio.bib",
   "cite_by": "apalike",
   "current_citInitial": 1,
   "eqLabelWithNumbers": true,
   "eqNumInitial": 1,
   "hotkeys": {
    "equation": "Ctrl-E",
    "itemize": "Ctrl-I"
   },
   "labels_anchors": false,
   "latex_user_defs": false,
   "report_style_numbering": false,
   "user_envs_cfg": false
  },
  "toc": {
   "colors": {
    "hover_highlight": "#DAA520",
    "running_highlight": "#FF0000",
    "selected_highlight": "#FFD700"
   },
   "moveMenuLeft": true,
   "nav_menu": {
    "height": "12px",
    "width": "252px"
   },
   "navigate_menu": true,
   "number_sections": true,
   "sideBar": true,
   "threshold": 4,
   "toc_cell": false,
   "toc_section_display": "block",
   "toc_window_display": false,
   "widenNotebook": false
  }
 },
 "nbformat": 4,
 "nbformat_minor": 1
}
